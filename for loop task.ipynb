{
 "cells": [
  {
   "cell_type": "code",
   "execution_count": 18,
   "id": "520eed29-5c64-4150-9ad2-f7e41ed94807",
   "metadata": {},
   "outputs": [
    {
     "name": "stdout",
     "output_type": "stream",
     "text": [
      "['rajpatel@gmail.com', 'priyasharma@gmail.com', 'amitkumar@gmail.com', 'nehasingh@gmail.com']\n"
     ]
    }
   ],
   "source": [
    "'''You have a nested list as below:\n",
    "indian_employees = [[\"Raj\", \"Patel\"], [\"Priya\", \"Sharma\"],[\"Amit\", \"Kumar\"],[\"Neha\", \"Singh\"]]\n",
    "your have to create an email address for each employee.\n",
    "Email address should be there firstname+lastname@gmail.com'''\n",
    "\n",
    "\n",
    "\n",
    "indian_employees = [[\"Raj\", \"Patel\"], [\"Priya\", \"Sharma\"],[\"Amit\", \"Kumar\"],[\"Neha\", \"Singh\"]]\n",
    "email_address=[f\"{first_name.lower()}{last_name.lower()}@gmail.com\"for first_name,last_name in indian_employees]\n",
    "print(email_address)"
   ]
  },
  {
   "cell_type": "code",
   "execution_count": null,
   "id": "c561ad82-ecfd-4e26-a397-6a971abed7fb",
   "metadata": {},
   "outputs": [],
   "source": []
  }
 ],
 "metadata": {
  "kernelspec": {
   "display_name": "Python 3 (ipykernel)",
   "language": "python",
   "name": "python3"
  },
  "language_info": {
   "codemirror_mode": {
    "name": "ipython",
    "version": 3
   },
   "file_extension": ".py",
   "mimetype": "text/x-python",
   "name": "python",
   "nbconvert_exporter": "python",
   "pygments_lexer": "ipython3",
   "version": "3.11.7"
  }
 },
 "nbformat": 4,
 "nbformat_minor": 5
}
